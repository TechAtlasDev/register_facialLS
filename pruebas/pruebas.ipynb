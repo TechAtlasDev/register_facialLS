{
 "cells": [
  {
   "cell_type": "code",
   "execution_count": 1,
   "metadata": {},
   "outputs": [],
   "source": [
    "import mariadb"
   ]
  },
  {
   "cell_type": "code",
   "execution_count": 39,
   "metadata": {},
   "outputs": [],
   "source": [
    "conector = mariadb.connect(\n",
    "    host=\"localhost\",\n",
    "    username=\"root\",\n",
    "    password=\"\",\n",
    "    database=\"usuarios_la_salle\"\n",
    ")"
   ]
  },
  {
   "cell_type": "code",
   "execution_count": 40,
   "metadata": {},
   "outputs": [],
   "source": [
    "cursor = conector.cursor()"
   ]
  },
  {
   "cell_type": "code",
   "execution_count": 41,
   "metadata": {},
   "outputs": [],
   "source": [
    "from datetime import datetime\n",
    "\n",
    "# Obtenemos la fecha actual\n",
    "fecha_actual = datetime.now()\n",
    "\n",
    "# Formateamos la fecha actual en el formato 'YYYY-MM-DD'\n",
    "fecha_formateada = fecha_actual.strftime('%Y-%m-%d')\n",
    "fecha_formateada = \"2022-03-08\"\n",
    "\n",
    "# Separando los datos\n",
    "data = fecha_formateada.split(\"-\")"
   ]
  },
  {
   "cell_type": "code",
   "execution_count": 42,
   "metadata": {},
   "outputs": [
    {
     "name": "stdout",
     "output_type": "stream",
     "text": [
      "('Giovanny Andree', 'Jimenez Deza', 77809977, 'Estudiante', datetime.date(2006, 3, 8), 0, 0)\n",
      "('Jon ', 'Doe', 123333, 'Estudiante', datetime.date(2006, 3, 8), 0, 0)\n"
     ]
    }
   ],
   "source": [
    "a = data[1:3]\n",
    "solicitud = \"SELECT * FROM data_users WHERE MONTH(fecha_nacimiento) = {} AND DAY(fecha_nacimiento) = {};\".format(*a)\n",
    "cursor.execute(solicitud)\n",
    "\n",
    "# ---------  Indexador de datos ----------\n",
    "index = cursor.fetchall()\n",
    "\n",
    "for data in index:\n",
    "    print (data)\n",
    "\n",
    "# ---- Cerrando conexion\n",
    "conector.close()"
   ]
  },
  {
   "cell_type": "code",
   "execution_count": 45,
   "metadata": {},
   "outputs": [
    {
     "name": "stdout",
     "output_type": "stream",
     "text": [
      "2\n"
     ]
    }
   ],
   "source": [
    "print (len(index))"
   ]
  }
 ],
 "metadata": {
  "kernelspec": {
   "display_name": "Python 3.10.x 64-bit (microsoft store)",
   "language": "python",
   "name": "python3"
  },
  "language_info": {
   "codemirror_mode": {
    "name": "ipython",
    "version": 3
   },
   "file_extension": ".py",
   "mimetype": "text/x-python",
   "name": "python",
   "nbconvert_exporter": "python",
   "pygments_lexer": "ipython3",
   "version": "3.10.9"
  },
  "orig_nbformat": 4,
  "vscode": {
   "interpreter": {
    "hash": "e0c092d2433179b3b2597dbba05026002332747a7d18092ac81c1b3b0169fb05"
   }
  }
 },
 "nbformat": 4,
 "nbformat_minor": 2
}
